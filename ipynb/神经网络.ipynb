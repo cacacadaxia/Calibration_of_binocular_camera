{
 "cells": [
  {
   "cell_type": "code",
   "execution_count": null,
   "metadata": {},
   "outputs": [],
   "source": []
  },
  {
   "cell_type": "code",
   "execution_count": 5,
   "metadata": {},
   "outputs": [],
   "source": [
    "import numpy as np\n",
    "import math"
   ]
  },
  {
   "cell_type": "code",
   "execution_count": 72,
   "metadata": {},
   "outputs": [],
   "source": [
    "def tanh(x):\n",
    "    return np.tanh(x)\n",
    "# 归一化指数函数\n",
    "def softmax(x):\n",
    "    exp = np.exp(x-x.max())\n",
    "    return exp/exp.sum()\n"
   ]
  },
  {
   "cell_type": "code",
   "execution_count": 73,
   "metadata": {},
   "outputs": [],
   "source": [
    "# 维度\n",
    "demensions = [28*28,10]\n",
    "# 激活函数，里面有两个\n",
    "activation = [tanh, softmax]\n",
    "# 表示第几层，每个字典代表一层\n",
    "distribution = [\n",
    "    {'b':[0,0]},\n",
    "    {'b':[0,0] , 'w':[-math.sqrt(6/(demensions[0]+demensions[1])),math.sqrt(6/(demensions[0]+demensions[1]))]}\n",
    "]\n",
    " "
   ]
  },
  {
   "cell_type": "code",
   "execution_count": 74,
   "metadata": {},
   "outputs": [],
   "source": [
    "def init_parament_b(layer):\n",
    "    dist = distribution[layer]['b']\n",
    "    return np.random.rand(demensions[layer])*(dist[1]-dist[0])+dist[0]\n",
    "def init_parament_w(layer):    \n",
    "    dist = distribution[layer]['w']\n",
    "    return np.random.rand(demensions[layer-1],demensions[layer])*(dist[1]-dist[0])+dist[0]\n",
    "\n",
    "def init_parament():\n",
    "    parameter = []\n",
    "    for i in range(len(distribution)):\n",
    "        layer_parement = {}\n",
    "        for j in distribution[i].keys():\n",
    "            if j=='b':\n",
    "                layer_parement['b'] = init_parament_b(i)\n",
    "                continue\n",
    "            if j=='w':\n",
    "                layer_parement['w'] = init_parament_w(i)\n",
    "                continue\n",
    "        parameter.append(layer_parement)\n",
    "    return parameter"
   ]
  },
  {
   "cell_type": "code",
   "execution_count": 87,
   "metadata": {},
   "outputs": [],
   "source": [
    "\n",
    "parameters = init_perement()\n",
    "def predict(img,parameters):\n",
    "    l0_in = img + parameters[0]['b']\n",
    "    l0_out = activation[0](l0_in)\n",
    "    l1_in = np.dot(l0_out , parameters[1]['w']) + parameters[1]['b']\n",
    "    l1_out = activation[1](l1_in)\n",
    "    return l1_out\n"
   ]
  },
  {
   "cell_type": "code",
   "execution_count": 96,
   "metadata": {},
   "outputs": [
    {
     "data": {
      "text/plain": [
       "2"
      ]
     },
     "execution_count": 96,
     "metadata": {},
     "output_type": "execute_result"
    }
   ],
   "source": [
    "predict(np.random.rand(784),parameters).argmax()"
   ]
  },
  {
   "cell_type": "markdown",
   "metadata": {},
   "source": [
    "tanh函数的表示\n",
    "\n",
    "![20200522145041](https://chendaxiashizhu-1259416116.cos.ap-beijing.myqcloud.com/20200522145041.png)"
   ]
  },
  {
   "cell_type": "code",
   "execution_count": 8,
   "metadata": {},
   "outputs": [
    {
     "data": {
      "text/plain": [
       "4"
      ]
     },
     "execution_count": 8,
     "metadata": {},
     "output_type": "execute_result"
    }
   ],
   "source": [
    "q = np.array([1,2,3,4])\n",
    "q.max()"
   ]
  },
  {
   "cell_type": "code",
   "execution_count": 106,
   "metadata": {},
   "outputs": [],
   "source": [
    "from pathlib import Path"
   ]
  },
  {
   "cell_type": "code",
   "execution_count": 109,
   "metadata": {},
   "outputs": [],
   "source": [
    "\n",
    "dataset_path = Path('MNIST')\n",
    "train_img_path = dataset_path/'train-images-idx3-ubyte'\n",
    "train_lab_path = dataset_path/'train-labels-idx1-ubyte'\n",
    "test_img_path = dataset_path/'t10k-images-idx3-ubyte'\n",
    "test_lab_path = dataset_path/'t10k-labels-idx1-ubyte'\n"
   ]
  },
  {
   "cell_type": "code",
   "execution_count": 142,
   "metadata": {},
   "outputs": [],
   "source": [
    "import struct\n",
    "import matplotlib.pyplot as plt"
   ]
  },
  {
   "cell_type": "code",
   "execution_count": 138,
   "metadata": {},
   "outputs": [],
   "source": [
    "with open(train_img_path,'rb') as f:\n",
    "    struct.unpack('>4i',f.read(16))\n",
    "    train_img = np.fromfile(f , dtype = np.uint8).reshape(-1,28*28)\n",
    "with open(test_img_path,'rb') as f:\n",
    "    struct.unpack('>4i',f.read(16))\n",
    "    test_img = np.fromfile(f , dtype = np.uint8).reshape(-1,28*28)\n",
    "with open(train_lab_path,'rb') as f:\n",
    "    struct.unpack('>2i',f.read(8))\n",
    "    train_lab = np.fromfile(f , dtype = np.uint8)\n",
    "with open(test_lab_path,'rb') as f:\n",
    "    struct.unpack('>2i',f.read(8))\n",
    "    test_lab= np.fromfile(f , dtype = np.uint8)\n"
   ]
  },
  {
   "cell_type": "code",
   "execution_count": 152,
   "metadata": {},
   "outputs": [],
   "source": [
    "\n",
    "def show_train(index):\n",
    "    img = train_img[index].reshape(28,28)\n",
    "    plt.imshow(img, cmap = 'gray')\n",
    "    print('label:{}'.format(train_lab[index]))\n",
    "def show_test(index):\n",
    "    img = test_img[index].reshape(28,28)\n",
    "    plt.imshow(img, cmap = 'gray')\n",
    "    print('label:{}'.format(train_lab[index]))"
   ]
  },
  {
   "cell_type": "code",
   "execution_count": 153,
   "metadata": {},
   "outputs": [
    {
     "name": "stdout",
     "output_type": "stream",
     "text": [
      "label:4\n",
      "label:1\n"
     ]
    },
    {
     "data": {
      "image/png": "[encoded data removed]",
      "text/plain": [
       "<Figure size 432x288 with 1 Axes>"
      ]
     },
     "metadata": {
      "needs_background": "light"
     },
     "output_type": "display_data"
    }
   ],
   "source": [
    "show_train(np.random.randint(60000))\n",
    "show_test(np.random.randint(1000))"
   ]
  },
  {
   "cell_type": "code",
   "execution_count": null,
   "metadata": {},
   "outputs": [],
   "source": []
  },
  {
   "cell_type": "code",
   "execution_count": 154,
   "metadata": {},
   "outputs": [
    {
     "data": {
      "image/png": "[encoded data removed]",
      "text/plain": [
       "<Figure size 432x288 with 1 Axes>"
      ]
     },
     "metadata": {
      "needs_background": "light"
     },
     "output_type": "display_data"
    }
   ],
   "source": [
    "#关于bar()直方图\n",
    "import matplotlib.pyplot as plt\n",
    "\n",
    "x=[1,2,3,4,5]#确定柱状图数量,可以认为是x方向刻度\n",
    "y=[5,7,4,3,1]#y方向刻度\n",
    "\n",
    "color=['red','black','peru','orchid','deepskyblue']\n",
    "x_label=['pop','classic','pure','blue','electronic']\n",
    "plt.xticks(x, x_label)#绘制x刻度标签\n",
    "plt.bar(x, y,color=color)#绘制y刻度标签  ✋稍后添加width参数，bottom参数，效果见图2\n",
    "\n",
    "#设置网格刻度\n",
    "plt.grid(True,linestyle=':',color='r',alpha=0.6)\n",
    "plt.show()"
   ]
  },
  {
   "cell_type": "code",
   "execution_count": null,
   "metadata": {},
   "outputs": [],
   "source": []
  }
 ],
 "metadata": {
  "kernelspec": {
   "display_name": "Python 3",
   "language": "python",
   "name": "python3"
  },
  "language_info": {
   "codemirror_mode": {
    "name": "ipython",
    "version": 3
   },
   "file_extension": ".py",
   "mimetype": "text/x-python",
   "name": "python",
   "nbconvert_exporter": "python",
   "pygments_lexer": "ipython3",
   "version": "3.7.1"
  }
 },
 "nbformat": 4,
 "nbformat_minor": 4
}
